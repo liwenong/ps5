{
 "cells": [
  {
   "cell_type": "code",
   "execution_count": 2,
   "metadata": {},
   "outputs": [
    {
     "ename": "KeyboardInterrupt",
     "evalue": "",
     "output_type": "error",
     "traceback": [
      "\u001b[0;31m---------------------------------------------------------------------------\u001b[0m",
      "\u001b[0;31mKeyboardInterrupt\u001b[0m                         Traceback (most recent call last)",
      "Cell \u001b[0;32mIn[2], line 15\u001b[0m\n\u001b[1;32m     13\u001b[0m \u001b[38;5;28;01mfor\u001b[39;00m words \u001b[38;5;129;01min\u001b[39;00m wordlist: \n\u001b[1;32m     14\u001b[0m       \u001b[38;5;28;01mif\u001b[39;00m words \u001b[38;5;129;01min\u001b[39;00m wordlist: \n\u001b[0;32m---> 15\u001b[0m             \u001b[38;5;28;01mcontinue\u001b[39;00m\n\u001b[1;32m     16\u001b[0m \u001b[38;5;66;03m### Part B \u001b[39;00m\n\u001b[1;32m     17\u001b[0m       \u001b[38;5;28mprint\u001b[39m(words)\n",
      "\u001b[0;31mKeyboardInterrupt\u001b[0m: "
     ]
    }
   ],
   "source": [
    "#Spell Part B\n",
    "### recommend words from the word_list file that the user might have meant instead of the \n",
    "### misspelled word, by applying a heuristic\n",
    "\n",
    "input_file = input(\"Input file:\")\n",
    "\n",
    "words = open(input_file).read().split('\\n')\n",
    "\n",
    "wordlist_file = input(\"Word list file:\")\n",
    "\n",
    "wordlist = open(wordlist_file).read().split('\\n')\n",
    "\n",
    "for words in wordlist: \n",
    "      if words in wordlist: \n",
    "            continue\n",
    "### Part B \n",
    "      print(words)\n",
    "      candidates = []\n",
    "\n",
    "      for i in range(len(words)): ##took from lecture 4 \n",
    "            candidates.append(words[:i] + words[i+1:])\n",
    "\n",
    "      print(candidates)\n",
    "\n",
    "      suggestions = []\n",
    "      \n",
    "      for candidate in candidates: \n",
    "            if candidate in wordlist:\n",
    "                  suggestions.append(candidate)\n",
    "\n",
    "      print(suggestions)\n",
    "      \n",
    "      if len(suggestions) == 0: \n",
    "            suggestions_string = \"(No suggestions)\"\n",
    "\n",
    "      else: \n",
    "            suggestions_string = \", \".join(suggestions)\n",
    "\n",
    "      print(f\"(words) -> {suggestions_string}\")"
   ]
  },
  {
   "cell_type": "code",
   "execution_count": null,
   "metadata": {},
   "outputs": [],
   "source": [
    "#Spell Part B\n",
    "### recommend words from the word_list file that the user might have meant instead of the \n",
    "### misspelled word, by applying a heuristic\n",
    "\n",
    "input_file = input(\"Input file:\")\n",
    "\n",
    "words = open(input_file).read().split('\\n')\n",
    "\n",
    "wordlist_file = input(\"Word list file:\")\n",
    "\n",
    "wordlist = open(wordlist_file).read().split('\\n')\n",
    "\n",
    "for word in words: \n",
    "      if words in wordlist: \n",
    "            continue\n",
    "### Part B \n",
    "      candidates = []\n",
    "\n",
    "      for i in range(len(word)): ##took from lecture 4 \n",
    "            candidates.append(word[:i] + word[i+1:])\n",
    "\n",
    "      suggestions = []\n",
    "      \n",
    "      for candidate in candidates: \n",
    "            if candidate in wordlist:\n",
    "                  suggestions.append(candidate)\n",
    "\n",
    "      \n",
    "      if len(suggestions) == 0: \n",
    "            suggestions_string = \"(No suggestions)\"\n",
    "\n",
    "      else: \n",
    "            suggestions_string = \", \".join(suggestions)\n",
    "\n",
    "      print(f\"{word} -> {suggestions_string}\")"
   ]
  }
 ],
 "metadata": {
  "kernelspec": {
   "display_name": "Python 3",
   "language": "python",
   "name": "python3"
  },
  "language_info": {
   "codemirror_mode": {
    "name": "ipython",
    "version": 3
   },
   "file_extension": ".py",
   "mimetype": "text/x-python",
   "name": "python",
   "nbconvert_exporter": "python",
   "pygments_lexer": "ipython3",
   "version": "3.12.1"
  }
 },
 "nbformat": 4,
 "nbformat_minor": 2
}
