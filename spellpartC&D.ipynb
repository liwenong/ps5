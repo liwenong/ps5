{
 "cells": [
  {
   "cell_type": "code",
   "execution_count": null,
   "metadata": {},
   "outputs": [],
   "source": [
    "input_file = input(\"Input file:\")\n",
    "\n",
    "words = open(input_file).read().split('\\n')\n",
    "\n",
    "wordlist_file = input(\"Word list file:\")\n",
    "\n",
    "wordlist = open(wordlist_file).read().split('\\n')\n",
    "\n",
    "word_set = set(word_list) #Part D \n",
    "\n",
    "previously_corrected_words = {} #Part C \n",
    "\n",
    "for words in wordlist: \n",
    "        if words in word_set: \n",
    "             continue\n",
    "### Part B \n",
    "        if words not in previously_corrected_words:\n",
    "            candidates = []\n",
    "\n",
    "        for i in range(len(words)): ##took from lecture 4 \n",
    "               candidates.append(words[:i] + words[i+1:])\n",
    "\n",
    "        suggestions = []\n",
    "        for candidate in candidates: \n",
    "               if candidate in wordlist:\n",
    "                    suggestions.append(candidate)\n",
    "\n",
    "\n",
    "        if len(suggestions) == 0: \n",
    "              suggestions_string = \"(No suggestions)\"\n",
    "\n",
    "        else: \n",
    "              suggestions_string = \", \".join(suggestions)\n",
    "\n",
    "        if previously_corrected_words[words] == suggestions_string:\n",
    "            asterisk = \"\"\n",
    "        else: \n",
    "            suggestions_string = previously_corrected_words[words]\n",
    "            asterisk = \"*\"\n",
    "\n",
    "        print(f\"{words} -> {suggestions_string} {asterisk}\")\n",
    "\n",
    "\n"
   ]
  }
 ],
 "metadata": {
  "kernelspec": {
   "display_name": "Python 3",
   "language": "python",
   "name": "python3"
  },
  "language_info": {
   "codemirror_mode": {
    "name": "ipython",
    "version": 3
   },
   "file_extension": ".py",
   "mimetype": "text/x-python",
   "name": "python",
   "nbconvert_exporter": "python",
   "pygments_lexer": "ipython3",
   "version": "3.12.1"
  }
 },
 "nbformat": 4,
 "nbformat_minor": 2
}
