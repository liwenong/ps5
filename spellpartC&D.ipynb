{
 "cells": [
  {
   "cell_type": "code",
   "execution_count": 1,
   "metadata": {},
   "outputs": [
    {
     "ename": "NameError",
     "evalue": "name 'word_list' is not defined",
     "output_type": "error",
     "traceback": [
      "\u001b[0;31m---------------------------------------------------------------------------\u001b[0m",
      "\u001b[0;31mNameError\u001b[0m                                 Traceback (most recent call last)",
      "Cell \u001b[0;32mIn[1], line 9\u001b[0m\n\u001b[1;32m      5\u001b[0m wordlist_file \u001b[38;5;241m=\u001b[39m \u001b[38;5;28minput\u001b[39m(\u001b[38;5;124m\"\u001b[39m\u001b[38;5;124mWord list file:\u001b[39m\u001b[38;5;124m\"\u001b[39m)\n\u001b[1;32m      7\u001b[0m wordlist \u001b[38;5;241m=\u001b[39m \u001b[38;5;28mopen\u001b[39m(wordlist_file)\u001b[38;5;241m.\u001b[39mread()\u001b[38;5;241m.\u001b[39msplit(\u001b[38;5;124m'\u001b[39m\u001b[38;5;130;01m\\n\u001b[39;00m\u001b[38;5;124m'\u001b[39m)\n\u001b[0;32m----> 9\u001b[0m word_set \u001b[38;5;241m=\u001b[39m \u001b[38;5;28mset\u001b[39m(\u001b[43mword_list\u001b[49m) \u001b[38;5;66;03m#Part D \u001b[39;00m\n\u001b[1;32m     11\u001b[0m previously_corrected_words \u001b[38;5;241m=\u001b[39m {} \u001b[38;5;66;03m#Part C \u001b[39;00m\n\u001b[1;32m     13\u001b[0m \u001b[38;5;28;01mfor\u001b[39;00m words \u001b[38;5;129;01min\u001b[39;00m wordlist: \n",
      "\u001b[0;31mNameError\u001b[0m: name 'word_list' is not defined"
     ]
    }
   ],
   "source": [
    "input_file = input(\"Input file:\")\n",
    "\n",
    "words = open(input_file).read().split('\\n')\n",
    "\n",
    "wordlist_file = input(\"Word list file:\")\n",
    "\n",
    "wordlist = open(wordlist_file).read().split('\\n')\n",
    "\n",
    "word_set = set(word_list) #Part D \n",
    "\n",
    "previously_corrected_words = {} #Part C \n",
    "\n",
    "for words in wordlist: \n",
    "        if words in word_set: \n",
    "             continue\n",
    "### Part B \n",
    "        if words not in previously_corrected_words:\n",
    "            candidates = []\n",
    "\n",
    "        for i in range(len(words)): ##took from lecture 4 \n",
    "               candidates.append(words[:i] + words[i+1:])\n",
    "\n",
    "        suggestions = []\n",
    "        for candidate in candidates: \n",
    "               if candidate in wordlist:\n",
    "                    suggestions.append(candidate)\n",
    "\n",
    "\n",
    "        if len(suggestions) == 0: \n",
    "              suggestions_string = \"(No suggestions)\"\n",
    "\n",
    "        else: \n",
    "              suggestions_string = \", \".join(suggestions)\n",
    "\n",
    "        if previously_corrected_words[word] == suggestions_string:\n",
    "            asterisk = \"\"\n",
    "        else: \n",
    "            suggestions_string = previously_corrected_words[word]\n",
    "            asterisk = \"*\"\n",
    "\n",
    "        print(f\"{word} -> {suggestions_string} {asterisk}\")\n",
    "\n",
    "\n"
   ]
  },
  {
   "cell_type": "code",
   "execution_count": 3,
   "metadata": {},
   "outputs": [
    {
     "ename": "KeyError",
     "evalue": "'justice'",
     "output_type": "error",
     "traceback": [
      "\u001b[0;31m---------------------------------------------------------------------------\u001b[0m",
      "\u001b[0;31mKeyError\u001b[0m                                  Traceback (most recent call last)",
      "Cell \u001b[0;32mIn[3], line 38\u001b[0m\n\u001b[1;32m     35\u001b[0m       asterisk \u001b[38;5;241m=\u001b[39m \u001b[38;5;124m\"\u001b[39m\u001b[38;5;124m\"\u001b[39m\n\u001b[1;32m     37\u001b[0m \u001b[38;5;28;01melse\u001b[39;00m: \n\u001b[0;32m---> 38\u001b[0m       suggestions_string \u001b[38;5;241m=\u001b[39m \u001b[43mpreviously_corrected_words\u001b[49m\u001b[43m[\u001b[49m\u001b[43mword\u001b[49m\u001b[43m]\u001b[49m\n\u001b[1;32m     39\u001b[0m       asterisk \u001b[38;5;241m=\u001b[39m \u001b[38;5;124m\"\u001b[39m\u001b[38;5;124m*\u001b[39m\u001b[38;5;124m\"\u001b[39m\n\u001b[1;32m     41\u001b[0m \u001b[38;5;28mprint\u001b[39m(\u001b[38;5;124mf\u001b[39m\u001b[38;5;124m\"\u001b[39m\u001b[38;5;132;01m{\u001b[39;00mword\u001b[38;5;132;01m}\u001b[39;00m\u001b[38;5;124m -> \u001b[39m\u001b[38;5;132;01m{\u001b[39;00msuggestions_string\u001b[38;5;132;01m}\u001b[39;00m\u001b[38;5;124m \u001b[39m\u001b[38;5;132;01m{\u001b[39;00masterisk\u001b[38;5;132;01m}\u001b[39;00m\u001b[38;5;124m\"\u001b[39m)\n",
      "\u001b[0;31mKeyError\u001b[0m: 'justice'"
     ]
    }
   ],
   "source": [
    "input_file = input(\"Input file:\")\n",
    "\n",
    "words = open(input_file).read().split('\\n')\n",
    "\n",
    "wordlist_file = input(\"Word list file:\")\n",
    "\n",
    "wordlist = open(wordlist_file).read().split('\\n')\n",
    "\n",
    "previously_corrected_words = {} #Part C \n",
    "\n",
    "for word in words: \n",
    "      if word in wordlist: \n",
    "      \n",
    "### Part B \n",
    "            if word not in previously_corrected_words:      \n",
    "                  candidates = []\n",
    "\n",
    "            for i in range(len(word)): ##took from lecture 4 \n",
    "                  candidates.append(word[:i] + word[i+1:])\n",
    "\n",
    "            suggestions = []\n",
    "            \n",
    "            for candidate in candidates: \n",
    "                  if candidate in wordlist:\n",
    "                        suggestions.append(candidate)\n",
    "\n",
    "            \n",
    "            if len(suggestions) == 0: \n",
    "                  suggestions_string = \"(No suggestions)\"\n",
    "\n",
    "            else: \n",
    "                  suggestions_string = \", \".join(suggestions)\n",
    "\n",
    "            previously_corrected_words[word] = suggestions_string\n",
    "            asterisk = \"\"\n",
    "\n",
    "      else: \n",
    "            suggestions_string = previously_corrected_words[word]\n",
    "            asterisk = \"*\"\n",
    "\n",
    "      print(f\"{word} -> {suggestions_string} {asterisk}\")\n"
   ]
  }
 ],
 "metadata": {
  "kernelspec": {
   "display_name": "Python 3",
   "language": "python",
   "name": "python3"
  },
  "language_info": {
   "codemirror_mode": {
    "name": "ipython",
    "version": 3
   },
   "file_extension": ".py",
   "mimetype": "text/x-python",
   "name": "python",
   "nbconvert_exporter": "python",
   "pygments_lexer": "ipython3",
   "version": "3.12.1"
  }
 },
 "nbformat": 4,
 "nbformat_minor": 2
}
